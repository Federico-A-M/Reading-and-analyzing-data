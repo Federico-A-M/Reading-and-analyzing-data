{
 "cells": [
  {
   "cell_type": "markdown",
   "id": "b5a1af08",
   "metadata": {},
   "source": [
    "## importamos el modulo de ploteo matplotlib"
   ]
  },
  {
   "cell_type": "code",
   "execution_count": 15,
   "id": "5b53675e",
   "metadata": {},
   "outputs": [],
   "source": [
    "from matplotlib import pyplot as plt"
   ]
  },
  {
   "cell_type": "markdown",
   "id": "1ea82da2",
   "metadata": {},
   "source": [
    "**Función de ploteo de Simon**"
   ]
  },
  {
   "cell_type": "code",
   "execution_count": 16,
   "id": "b819e738",
   "metadata": {},
   "outputs": [],
   "source": [
    "# SIMON\n",
    "def plotear_s(etiquetas: list, valores : list): \n",
    "    titulo = \"Precios promedio por vecindarios\"\n",
    "    \"\"\"\n",
    "    Genera un gráfico de barras que representa los Precios promedio por vecindarios.\n",
    "    @author Simón Revello.\n",
    "    \"\"\"\n",
    "    plt.figure(figsize=(15, 6))\n",
    "    plt.grid(zorder=0)\n",
    "    plt.bar(etiquetas, valores, color=\"#10b981\", ec=\"black\")\n",
    "    plt.title(titulo)\n",
    "    plt.xticks(rotation = 90, fontsize = 8)\n",
    "    plt.yticks(fontsize=8)\n",
    "    plt.savefig(titulo + \".png\", bbox_inches = 'tight')"
   ]
  },
  {
   "cell_type": "markdown",
   "id": "c23984d0",
   "metadata": {},
   "source": [
    "**Función de ploteo de Marien**"
   ]
  },
  {
   "cell_type": "code",
   "execution_count": 17,
   "id": "cdf6a5b1",
   "metadata": {},
   "outputs": [],
   "source": [
    "# MARIEN\n",
    "def plotear_m(diccionario):\n",
    "    #ajustamos el tamaño de la imagen  \n",
    "    plt.figure(figsize = (15,6))\n",
    "    #ploteamos la grafica\n",
    "    plt.bar(diccionario.keys(), diccionario.values(), color=\"darkorchid\", linewidth=1, edgecolor=\"black\")\n",
    "    #Ajustamos el tamaño del texto y rotamos mejoramos eje x\n",
    "    plt.xticks(rotation = 90, fontsize=15);\n",
    "    plt.yticks(fontsize=20);\n",
    "    #Añadimos títulos y guardamos la imágen\n",
    "   \n",
    "    plt.ylabel('Cantidad de postulaciones',fontsize=15)\n",
    "    plt.title('Precio promedio según tipo de habitación',fontsize=20)\n",
    "    plt.savefig('Grafica_Barras_Mallorca.png', bbox_inches = 'tight')"
   ]
  },
  {
   "cell_type": "markdown",
   "id": "051ab3f7",
   "metadata": {},
   "source": [
    "**Función de ploteo de Federico**"
   ]
  },
  {
   "cell_type": "code",
   "execution_count": 18,
   "id": "c9242088",
   "metadata": {},
   "outputs": [],
   "source": [
    "#FEDERICO\n",
    "def plotear_f(diccionario):\n",
    "    #ajustamos el tamaño de la imagen  \n",
    "    plt.figure(figsize = (15,6))\n",
    "    #ploteamos la grafica\n",
    "    plt.bar(diccionario.keys(), diccionario.values(), color=\"mediumspringgreen\", linewidth=1, edgecolor=\"black\")\n",
    "    #Ajustamos el tamaño del texto y rotamos mejoramos eje x\n",
    "    plt.xticks(rotation = 90, fontsize=15)\n",
    "    plt.yticks(fontsize=20)\n",
    "    #Añadimos títulos y guardamos la imágen\n",
    "    plt.xlabel('Vecindarios',fontsize=15)\n",
    "    plt.ylabel('Cantidad de postulaciones',fontsize=15)\n",
    "    plt.title('Cantidad de ofertas por sectores en Mallorca de un Total de 17795 posteos',fontsize=20);\n",
    "    plt.savefig('Ofertas_por_barrio.png', bbox_inches = 'tight')"
   ]
  },
  {
   "cell_type": "markdown",
   "id": "a1ad0809",
   "metadata": {},
   "source": [
    "**Función de ploteo de Julian**"
   ]
  },
  {
   "cell_type": "code",
   "execution_count": 19,
   "id": "9aa638e5",
   "metadata": {},
   "outputs": [],
   "source": [
    "# JULI\n",
    "def plotear_j(barrios, barrio1, barrio2, barrio3):\n",
    "    #ajustamos el tamaño de la imagen  \n",
    "    plt.figure(figsize=(15,6))\n",
    "    #ploteamos la grafica\n",
    "    plt.hist(barrio1, bins=100, range=[0, 400], color=\"#9d5353\", ec=\"black\")\n",
    "    #Ajustamos el tamaño del texto y rotamos mejoramos eje x\n",
    "    plt.xticks(rotation=90,fontsize=15);\n",
    "    plt.yticks(fontsize=20);\n",
    "    #Añadimos títulos y guardamos la imágen\n",
    "    plt.xlabel('Precio',fontsize=15)\n",
    "    plt.ylabel('Frecuencia',fontsize=15)\n",
    "    plt.title('Distribucion de precios en el barrio {}'.format(barrios[0][\"nombre\"]),fontsize=20);\n",
    "    plt.savefig('Distr_De_Precios_Segun_El_Barrio_{}.png'.format(barrios[0][\"nombre\"]), bbox_inches = 'tight')\n",
    "\n",
    "    #ajustamos el tamaño de la imagen  \n",
    "    plt.figure(figsize=(15,6))\n",
    "    #ploteamos la grafica\n",
    "    plt.hist(barrio2, bins=100, range=[0, 400], color=\"#9d5353\", ec=\"black\")\n",
    "    #Ajustamos el tamaño del texto y rotamos mejoramos eje x\n",
    "    plt.xticks(rotation=90,fontsize=15);\n",
    "    plt.yticks(fontsize=20);\n",
    "    #Añadimos títulos y guardamos la imágen\n",
    "    plt.xlabel('Precio',fontsize=15)\n",
    "    plt.ylabel('Frecuencia',fontsize=15)\n",
    "    plt.title('Distribucion de precios en el barrio {}'.format(barrios[1][\"nombre\"]),fontsize=20);\n",
    "    plt.savefig('Distr_De_Precios_Segun_El_Barrio_{}.png'.format(barrios[1][\"nombre\"]), bbox_inches = 'tight')\n",
    "\n",
    "    #ajustamos el tamaño de la imagen  \n",
    "    plt.figure(figsize=(15,6))\n",
    "    #ploteamos la grafica\n",
    "    plt.hist(barrio3, bins=100, range=[0, 400], color=\"#9d5353\", ec=\"black\")\n",
    "    #Ajustamos el tamaño del texto y rotamos mejoramos eje x\n",
    "    plt.xticks(rotation=90,fontsize=15);\n",
    "    plt.yticks(fontsize=20);\n",
    "    #Añadimos títulos y guardamos la imágen\n",
    "    plt.xlabel('Precio',fontsize=15)\n",
    "    plt.ylabel('Frecuencia',fontsize=15)\n",
    "    plt.title('Distribucion de precios en el barrio {}'.format(barrios[2][\"nombre\"]),fontsize=20);\n",
    "    plt.savefig('Distr_De_Precios_Segun_El_Barrio_{}.png'.format(barrios[2][\"nombre\"]), bbox_inches = 'tight')"
   ]
  }
 ],
 "metadata": {
  "kernelspec": {
   "display_name": "Python 3 (ipykernel)",
   "language": "python",
   "name": "python3"
  },
  "language_info": {
   "codemirror_mode": {
    "name": "ipython",
    "version": 3
   },
   "file_extension": ".py",
   "mimetype": "text/x-python",
   "name": "python",
   "nbconvert_exporter": "python",
   "pygments_lexer": "ipython3",
   "version": "3.10.4"
  }
 },
 "nbformat": 4,
 "nbformat_minor": 5
}
